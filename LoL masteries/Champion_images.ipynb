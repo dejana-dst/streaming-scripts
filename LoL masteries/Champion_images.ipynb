{
  "nbformat": 4,
  "nbformat_minor": 0,
  "metadata": {
    "colab": {
      "provenance": []
    },
    "kernelspec": {
      "name": "python3",
      "display_name": "Python 3"
    },
    "language_info": {
      "name": "python"
    }
  },
  "cells": [
    {
      "cell_type": "code",
      "execution_count": null,
      "metadata": {
        "id": "_TbZhHs6q1NZ"
      },
      "outputs": [],
      "source": [
        "import requests\n",
        "from bs4 import BeautifulSoup\n",
        "from typing import List, Dict, Union\n",
        "import pandas as pd\n",
        "import numpy as np\n",
        "import sklearn\n",
        "import PIL\n",
        "import urllib\n",
        "from matplotlib import pyplot as plt\n",
        "import re\n",
        "import unicodedata as ud\n",
        "import shutil"
      ]
    },
    {
      "cell_type": "code",
      "source": [
        "r = requests.get(\"https://leagueoflegends.fandom.com/wiki/List_of_champions\")\n",
        "soup = BeautifulSoup(r.content, 'html.parser')\n",
        "image_wrap = soup.find_all('img')"
      ],
      "metadata": {
        "id": "WZQ8ZdoVq-m6"
      },
      "execution_count": null,
      "outputs": []
    },
    {
      "cell_type": "code",
      "source": [
        "image_wrap[22]['data-src']\n"
      ],
      "metadata": {
        "colab": {
          "base_uri": "https://localhost:8080/",
          "height": 53
        },
        "id": "S7gL180m0Wxx",
        "outputId": "15ca2a22-d9b2-4376-980a-010b33eca9b0"
      },
      "execution_count": null,
      "outputs": [
        {
          "output_type": "execute_result",
          "data": {
            "text/plain": [
              "'https://static.wikia.nocookie.net/leagueoflegends/images/9/92/Aphelios_OriginalSquare.png/revision/latest/scale-to-width-down/42?cb=20200304070938'"
            ],
            "application/vnd.google.colaboratory.intrinsic+json": {
              "type": "string"
            }
          },
          "metadata": {},
          "execution_count": 45
        }
      ]
    },
    {
      "cell_type": "code",
      "source": [
        "\n",
        "\n",
        "for link in image_wrap:\n",
        "    \"\"\"\n",
        "    txt = open('%s.jpg' % link.get('data-image-name'), \"wb\")\n",
        "    link = link[\"src\"].split(\"src=\")[-1]\n",
        "    download_img = urllib.urlopen(link)\n",
        "    txt.write(download_img.read())\n",
        "\n",
        "    txt.close()\n",
        "\n",
        "\n",
        "\n",
        "    print(urllib.request.urlretrieve(\"https://bit.ly/3oAeohK\"))\n",
        "    image = PIL.Image.open(\"new.png\")\n",
        "    image.show()\n",
        "    \"\"\"\n",
        "\n",
        "\n",
        "    \n",
        "    try:\n",
        "      a=link['data-image-name']\n",
        "      print ( link['data-src'],  link['alt'])\n",
        "      urllib.request.urlretrieve(link['data-src'],'images4/'+a)\n",
        "      ''' img = Image.open(requests.get(link['data-src'],stream=True).raw)\n",
        "      img.save('images4/'+a)\n",
        "       '''\n",
        "      print('images4/'+a)\n",
        "    \n",
        "    \n",
        "    except:\n",
        "      print()\n",
        "\n"
      ],
      "metadata": {
        "id": "UZnJTWF0rJKB"
      },
      "execution_count": null,
      "outputs": []
    },
    {
      "cell_type": "code",
      "source": [
        "!zip -r /content/images.zip /content/images4"
      ],
      "metadata": {
        "colab": {
          "base_uri": "https://localhost:8080/"
        },
        "id": "DRDXow6ZsizX",
        "outputId": "79d51bd2-697f-45ba-bd60-7d21b04be74d"
      },
      "execution_count": null,
      "outputs": [
        {
          "output_type": "stream",
          "name": "stdout",
          "text": [
            "  adding: content/images4/ (stored 0%)\n",
            "  adding: content/images4/Blitzcrank OriginalSquare.png (deflated 2%)\n",
            "  adding: content/images4/Sylas OriginalSquare.png (deflated 2%)\n",
            "  adding: content/images4/Rumble OriginalSquare.png (deflated 2%)\n",
            "  adding: content/images4/Ashe OriginalSquare.png (deflated 2%)\n",
            "  adding: content/images4/Kindred OriginalSquare.png (deflated 2%)\n",
            "  adding: content/images4/Camille OriginalSquare.png (deflated 2%)\n",
            "  adding: content/images4/OmenSquare.png (deflated 5%)\n",
            "  adding: content/images4/Zilean OriginalSquare.png (deflated 2%)\n",
            "  adding: content/images4/Yorick OriginalSquare.png (deflated 2%)\n",
            "  adding: content/images4/Jayce OriginalSquare.png (deflated 2%)\n",
            "  adding: content/images4/Draven OriginalSquare.png (deflated 2%)\n",
            "  adding: content/images4/Marksman icon.png (deflated 4%)\n",
            "  adding: content/images4/Well OriginalSquare.png (deflated 5%)\n",
            "  adding: content/images4/Viktor OriginalSquare.png (deflated 2%)\n",
            "  adding: content/images4/Katarina OriginalSquare.png (deflated 2%)\n",
            "  adding: content/images4/Vi OriginalSquare.png (deflated 2%)\n",
            "  adding: content/images4/Jhin OriginalSquare.png (deflated 2%)\n",
            "  adding: content/images4/Fighter icon.png (deflated 3%)\n",
            "  adding: content/images4/Morgana OriginalSquare.png (deflated 2%)\n",
            "  adding: content/images4/Vladimir OriginalSquare.png (deflated 2%)\n",
            "  adding: content/images4/Xin Zhao OriginalSquare.png (deflated 2%)\n",
            "  adding: content/images4/Yone OriginalSquare.png (deflated 1%)\n",
            "  adding: content/images4/IvanSquare.png (deflated 5%)\n",
            "  adding: content/images4/Ryze OriginalSquare.png (deflated 2%)\n",
            "  adding: content/images4/Ahri OriginalSquare.png (deflated 2%)\n",
            "  adding: content/images4/Nasus OriginalSquare.png (deflated 1%)\n",
            "  adding: content/images4/Hecarim OriginalSquare.png (deflated 2%)\n",
            "  adding: content/images4/Samira OriginalSquare.png (deflated 2%)\n",
            "  adding: content/images4/Rengar OriginalSquare.png (deflated 2%)\n",
            "  adding: content/images4/Lux OriginalSquare.png (deflated 2%)\n",
            "  adding: content/images4/Darius OriginalSquare.png (deflated 2%)\n",
            "  adding: content/images4/Singed OriginalSquare.png (deflated 2%)\n",
            "  adding: content/images4/Gragas OriginalSquare.png (deflated 2%)\n",
            "  adding: content/images4/Kalista OriginalSquare.png (deflated 2%)\n",
            "  adding: content/images4/Nilah OriginalSquare.png (deflated 2%)\n",
            "  adding: content/images4/Alistar OriginalSquare.png (deflated 2%)\n",
            "  adding: content/images4/Kai'Sa OriginalSquare.png (deflated 2%)\n",
            "  adding: content/images4/Garen OriginalSquare.png (deflated 2%)\n",
            "  adding: content/images4/Yuumi OriginalSquare.png (deflated 2%)\n",
            "  adding: content/images4/Nami OriginalSquare.png (deflated 2%)\n",
            "  adding: content/images4/GavidSquare.png (deflated 5%)\n",
            "  adding: content/images4/Karthus OriginalSquare.png (deflated 2%)\n",
            "  adding: content/images4/Kassadin OriginalSquare.png (deflated 2%)\n",
            "  adding: content/images4/Diana OriginalSquare.png (deflated 2%)\n",
            "  adding: content/images4/Zed OriginalSquare.png (deflated 2%)\n",
            "  adding: content/images4/Priscilla OriginalSquare.png (deflated 4%)\n",
            "  adding: content/images4/Sion OriginalSquare.png (deflated 2%)\n",
            "  adding: content/images4/Zeri OriginalSquare.png (deflated 2%)\n",
            "  adding: content/images4/Volibear OriginalSquare.png (deflated 2%)\n",
            "  adding: content/images4/Twitch OriginalSquare.png (deflated 2%)\n",
            "  adding: content/images4/Cho'Gath OriginalSquare.png (deflated 2%)\n",
            "  adding: content/images4/Renata Glasc OriginalSquare.png (deflated 2%)\n",
            "  adding: content/images4/RP icon.png (deflated 31%)\n",
            "  adding: content/images4/Rob Blackblade OriginalSquare.png (deflated 5%)\n",
            "  adding: content/images4/Ivern OriginalSquare.png (deflated 2%)\n",
            "  adding: content/images4/Aatrox OriginalSquare.png (deflated 2%)\n",
            "  adding: content/images4/Nidalee OriginalSquare.png (deflated 2%)\n",
            "  adding: content/images4/Leona OriginalSquare.png (deflated 2%)\n",
            "  adding: content/images4/Ao ShinSquare.png (deflated 5%)\n",
            "  adding: content/images4/Teemo OriginalSquare.png (deflated 2%)\n",
            "  adding: content/images4/Renekton OriginalSquare.png (deflated 2%)\n",
            "  adding: content/images4/Zac OriginalSquare.png (deflated 2%)\n",
            "  adding: content/images4/AvashaSquare.png (deflated 5%)\n",
            "  adding: content/images4/Zyra OriginalSquare.png (deflated 2%)\n",
            "  adding: content/images4/Shen OriginalSquare.png (deflated 2%)\n",
            "  adding: content/images4/Vex OriginalSquare.png (deflated 2%)\n",
            "  adding: content/images4/Varus OriginalSquare.png (deflated 2%)\n",
            "  adding: content/images4/Seraphine OriginalSquare.png (deflated 2%)\n",
            "  adding: content/images4/Kayn OriginalSquare.png (deflated 2%)\n",
            "  adding: content/images4/TikiSquare.png (deflated 5%)\n",
            "  adding: content/images4/Orianna OriginalSquare.png (deflated 2%)\n",
            "  adding: content/images4/Jarvan IV OriginalSquare.png (deflated 2%)\n",
            "  adding: content/images4/Kled OriginalSquare.png (deflated 2%)\n",
            "  adding: content/images4/Talon OriginalSquare.png (deflated 2%)\n",
            "  adding: content/images4/Syndra OriginalSquare.png (deflated 2%)\n",
            "  adding: content/images4/Riven OriginalSquare.png (deflated 2%)\n",
            "  adding: content/images4/Nunu OriginalSquare.png (deflated 2%)\n",
            "  adding: content/images4/Warwick OriginalSquare.png (deflated 2%)\n",
            "  adding: content/images4/Trundle OriginalSquare.png (deflated 2%)\n",
            "  adding: content/images4/Olaf OriginalSquare.png (deflated 2%)\n",
            "  adding: content/images4/Amumu OriginalSquare.png (deflated 2%)\n",
            "  adding: content/images4/Iron EngineerSquare.png (deflated 5%)\n",
            "  adding: content/images4/Ezreal OriginalSquare.png (deflated 2%)\n",
            "  adding: content/images4/Mordekaiser OriginalSquare.png (deflated 2%)\n",
            "  adding: content/images4/Senna OriginalSquare.png (deflated 2%)\n",
            "  adding: content/images4/Kha'Zix OriginalSquare.png (deflated 2%)\n",
            "  adding: content/images4/Akshan OriginalSquare.png (deflated 2%)\n",
            "  adding: content/images4/Ekko OriginalSquare.png (deflated 2%)\n",
            "  adding: content/images4/Sivir OriginalSquare.png (deflated 2%)\n",
            "  adding: content/images4/Nocturne OriginalSquare.png (deflated 2%)\n",
            "  adding: content/images4/Miss Fortune OriginalSquare.png (deflated 2%)\n",
            "  adding: content/images4/Malphite OriginalSquare.png (deflated 2%)\n",
            "  adding: content/images4/Bel'Veth OriginalSquare.png (deflated 2%)\n",
            "  adding: content/images4/UrfSquare.png (deflated 4%)\n",
            "  adding: content/images4/Corki OriginalSquare.png (deflated 1%)\n",
            "  adding: content/images4/CeeCeeSquare.png (deflated 6%)\n",
            "  adding: content/images4/Xayah OriginalSquare.png (deflated 2%)\n",
            "  adding: content/images4/Tabu OriginalSquare.png (deflated 4%)\n",
            "  adding: content/images4/Udyr OriginalSquare.png (deflated 2%)\n",
            "  adding: content/images4/SethSquare.png (deflated 5%)\n",
            "  adding: content/images4/Brand OriginalSquare.png (deflated 2%)\n",
            "  adding: content/images4/Aphelios OriginalSquare.png (deflated 2%)\n",
            "  adding: content/images4/Braum OriginalSquare.png (deflated 2%)\n",
            "  adding: content/images4/Caitlyn OriginalSquare.png (deflated 1%)\n",
            "  adding: content/images4/Taliyah OriginalSquare.png (deflated 2%)\n",
            "  adding: content/images4/Eagle RiderSquare.png (deflated 5%)\n",
            "  adding: content/images4/Nautilus OriginalSquare.png (deflated 2%)\n",
            "  adding: content/images4/Rell OriginalSquare.png (deflated 2%)\n",
            "  adding: content/images4/Vayne OriginalSquare.png (deflated 2%)\n",
            "  adding: content/images4/Swain OriginalSquare.png (deflated 2%)\n",
            "  adding: content/images4/Lissandra OriginalSquare.png (deflated 1%)\n",
            "  adding: content/images4/Irelia OriginalSquare.png (deflated 2%)\n",
            "  adding: content/images4/Pantheon OriginalSquare.png (deflated 2%)\n",
            "  adding: content/images4/Sejuani OriginalSquare.png (deflated 2%)\n",
            "  adding: content/images4/Kog'Maw OriginalSquare.png (deflated 2%)\n",
            "  adding: content/images4/Dr. Mundo OriginalSquare.png (deflated 2%)\n",
            "  adding: content/images4/Gangplank OriginalSquare.png (deflated 2%)\n",
            "  adding: content/images4/Tristana OriginalSquare.png (deflated 2%)\n",
            "  adding: content/images4/Akali OriginalSquare.png (deflated 2%)\n",
            "  adding: content/images4/Shyvana OriginalSquare.png (deflated 2%)\n",
            "  adding: content/images4/Kennen OriginalSquare.png (deflated 2%)\n",
            "  adding: content/images4/LeBlanc OriginalSquare.png (deflated 2%)\n",
            "  adding: content/images4/Cyborg CowboySquare.png (deflated 13%)\n",
            "  adding: content/images4/Kayle OriginalSquare.png (deflated 2%)\n",
            "  adding: content/images4/Gwen OriginalSquare.png (deflated 1%)\n",
            "  adding: content/images4/Elise OriginalSquare.png (deflated 2%)\n",
            "  adding: content/images4/Slayer icon.png (deflated 4%)\n",
            "  adding: content/images4/Qiyana OriginalSquare.png (deflated 1%)\n",
            "  adding: content/images4/Wukong OriginalSquare.png (deflated 2%)\n",
            "  adding: content/images4/League of Legends icon nav.png (deflated 12%)\n",
            "  adding: content/images4/Rammus OriginalSquare.png (deflated 2%)\n",
            "  adding: content/images4/Taric OriginalSquare.png (deflated 2%)\n",
            "  adding: content/images4/Lee Sin OriginalSquare.png (deflated 2%)\n",
            "  adding: content/images4/Bard OriginalSquare.png (deflated 2%)\n",
            "  adding: content/images4/Azir OriginalSquare.png (deflated 2%)\n",
            "  adding: content/images4/Pyke OriginalSquare.png (deflated 2%)\n",
            "  adding: content/images4/Heimerdinger OriginalSquare.png (deflated 2%)\n",
            "  adding: content/images4/Fiddlesticks OriginalSquare.png (deflated 2%)\n",
            "  adding: content/images4/Maokai OriginalSquare.png (deflated 2%)\n",
            "  adding: content/images4/Rakan OriginalSquare.png (deflated 2%)\n",
            "  adding: content/images4/Ornn OriginalSquare.png (deflated 2%)\n",
            "  adding: content/images4/Rek'Sai OriginalSquare.png (deflated 2%)\n",
            "  adding: content/images4/Karma OriginalSquare.png (deflated 2%)\n",
            "  adding: content/images4/Graves OriginalSquare.png (deflated 2%)\n",
            "  adding: content/images4/Tryndamere OriginalSquare.png (deflated 2%)\n",
            "  adding: content/images4/Thresh OriginalSquare.png (deflated 2%)\n",
            "  adding: content/images4/Lulu OriginalSquare.png (deflated 1%)\n",
            "  adding: content/images4/Aurelion Sol OriginalSquare.png (deflated 6%)\n",
            "  adding: content/images4/Vel'Koz OriginalSquare.png (deflated 2%)\n",
            "  adding: content/images4/Lillia OriginalSquare.png (deflated 2%)\n",
            "  adding: content/images4/Poppy OriginalSquare.png (deflated 2%)\n",
            "  adding: content/images4/Master Yi OriginalSquare.png (deflated 1%)\n",
            "  adding: content/images4/Tahm Kench OriginalSquare.png (deflated 2%)\n",
            "  adding: content/images4/Twisted Fate OriginalSquare.png (deflated 2%)\n",
            "  adding: content/images4/Xerath OriginalSquare.png (deflated 2%)\n",
            "  adding: content/images4/Viego OriginalSquare.png (deflated 2%)\n",
            "  adding: content/images4/Fiora OriginalSquare.png (deflated 2%)\n",
            "  adding: content/images4/Skarner OriginalSquare.png (deflated 1%)\n",
            "  adding: content/images4/Annie OriginalSquare.png (deflated 2%)\n",
            "  adding: content/images4/Sett OriginalSquare.png (deflated 2%)\n",
            "  adding: content/images4/Ziggs OriginalSquare.png (deflated 2%)\n",
            "  adding: content/images4/Evelynn OriginalSquare.png (deflated 2%)\n",
            "  adding: content/images4/Sona OriginalSquare.png (deflated 2%)\n",
            "  adding: content/images4/Mage icon.png (deflated 4%)\n",
            "  adding: content/images4/Yasuo OriginalSquare.png (deflated 1%)\n",
            "  adding: content/images4/Malzahar OriginalSquare.png (deflated 2%)\n",
            "  adding: content/images4/Lucian OriginalSquare.png (deflated 2%)\n",
            "  adding: content/images4/Jax OriginalSquare.png (deflated 2%)\n",
            "  adding: content/images4/Controller icon.png (deflated 4%)\n",
            "  adding: content/images4/Galio OriginalSquare.png (deflated 2%)\n",
            "  adding: content/images4/Illaoi OriginalSquare.png (deflated 2%)\n",
            "  adding: content/images4/Specialist icon.png (deflated 26%)\n",
            "  adding: content/images4/Zoe OriginalSquare.png (deflated 2%)\n",
            "  adding: content/images4/Quinn OriginalSquare.png (deflated 1%)\n",
            "  adding: content/images4/Urgot OriginalSquare.png (deflated 2%)\n",
            "  adding: content/images4/Janna OriginalSquare.png (deflated 2%)\n",
            "  adding: content/images4/Gnar OriginalSquare.png (deflated 2%)\n",
            "  adding: content/images4/Anivia OriginalSquare.png (deflated 2%)\n",
            "  adding: content/images4/Neeko OriginalSquare.png (deflated 2%)\n",
            "  adding: content/images4/Jinx OriginalSquare.png (deflated 2%)\n",
            "  adding: content/images4/Cassiopeia OriginalSquare.png (deflated 2%)\n",
            "  adding: content/images4/Averdrian OriginalSquare.png (deflated 4%)\n",
            "  adding: content/images4/Tank icon.png (deflated 3%)\n",
            "  adding: content/images4/Fizz OriginalSquare.png (deflated 2%)\n",
            "  adding: content/images4/BE icon.png (deflated 28%)\n",
            "  adding: content/images4/Soraka OriginalSquare.png (deflated 2%)\n",
            "  adding: content/images4/Veigar OriginalSquare.png (deflated 2%)\n",
            "  adding: content/images4/Shaco OriginalSquare.png (deflated 2%)\n"
          ]
        }
      ]
    },
    {
      "cell_type": "code",
      "source": [
        "!dir --format=single-column >> _list.txt"
      ],
      "metadata": {
        "id": "n7UTntosAPl2"
      },
      "execution_count": null,
      "outputs": []
    }
  ]
}